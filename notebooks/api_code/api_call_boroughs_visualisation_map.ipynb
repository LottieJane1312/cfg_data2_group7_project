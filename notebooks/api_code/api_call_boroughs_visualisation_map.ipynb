{
 "nbformat": 4,
 "nbformat_minor": 0,
 "metadata": {
  "colab": {
   "provenance": []
  },
  "kernelspec": {
   "name": "python3",
   "language": "python",
   "display_name": "Python 3 (ipykernel)"
  },
  "language_info": {
   "name": "python"
  }
 },
 "cells": [
  {
   "cell_type": "markdown",
   "source": [
    "# API CALLS TO MAP LONDON BOROUGHS:\n",
    "### Using 2 No. APIs (geoappify.com & nominatim.openstreetmap.org) to map the boroughs included in our study onto an interative map using Pythons folium library"
   ],
   "metadata": {
    "id": "fXuKH-kVsxSV"
   }
  },
  {
   "cell_type": "code",
   "source": [
    "# Was required when running our code through Google CoLab\n",
    "\n",
    "# from google.colab import drive\n",
    "#\n",
    "# drive.mount('/content/gdrive', force_remount=True)"
   ],
   "metadata": {
    "colab": {
     "base_uri": "https://localhost:8080/"
    },
    "id": "SVUMealTjAMM",
    "executionInfo": {
     "status": "ok",
     "timestamp": 1684931943738,
     "user_tz": -60,
     "elapsed": 64968,
     "user": {
      "displayName": "Charlotte Pollard (Lottie Jane)",
      "userId": "10176804658656864664"
     }
    },
    "outputId": "5e655e89-6f16-4ba2-d175-bf0afe89d547"
   },
   "execution_count": null,
   "outputs": []
  },
  {
   "cell_type": "code",
   "source": [
    "# Sample the json response for inspection\n",
    "\n",
    "import requests\n",
    "from pprint import pprint as pp\n",
    "\n",
    "appid = '#INSERT_YOUR_API_KEY_HERE#'\n",
    "lat = '51.542511757487524'\n",
    "lon = '-0.05702092689608372'\n",
    "url = f'https://api.geoapify.com/v1/geocode/reverse?lat={lat}&lon={lon}&format=json&apiKey={appid}'\n",
    "response = requests.get(url)\n",
    "\n",
    "pp(response.json())"
   ],
   "metadata": {
    "id": "tIIuwbhAeHSV",
    "colab": {
     "base_uri": "https://localhost:8080/"
    },
    "executionInfo": {
     "status": "ok",
     "timestamp": 1684931945328,
     "user_tz": -60,
     "elapsed": 1592,
     "user": {
      "displayName": "Charlotte Pollard (Lottie Jane)",
      "userId": "10176804658656864664"
     }
    },
    "outputId": "92d439b4-a1ee-4949-d768-75807e06b240",
    "ExecuteTime": {
     "end_time": "2023-05-27T18:56:59.946513Z",
     "start_time": "2023-05-27T18:56:59.203766Z"
    }
   },
   "execution_count": 1,
   "outputs": [
    {
     "name": "stdout",
     "output_type": "stream",
     "text": [
      "{'results': [{'address_line1': '37 Ellingfort Road',\n",
      "              'address_line2': 'London, E8 3PA, United Kingdom',\n",
      "              'bbox': {'lat1': 51.542419853846,\n",
      "                       'lat2': 51.542519853846,\n",
      "                       'lon1': -0.057047653846154,\n",
      "                       'lon2': -0.056947653846154},\n",
      "              'city': 'London',\n",
      "              'country': 'United Kingdom',\n",
      "              'country_code': 'gb',\n",
      "              'county': 'Greater London',\n",
      "              'datasource': {'attribution': '© OpenStreetMap contributors',\n",
      "                             'license': 'Open Database License',\n",
      "                             'sourcename': 'openstreetmap',\n",
      "                             'url': 'https://www.openstreetmap.org/copyright'},\n",
      "              'distance': 4.929618659949136,\n",
      "              'district': 'London Borough of Hackney',\n",
      "              'formatted': '37 Ellingfort Road, London, E8 3PA, United Kingdom',\n",
      "              'housenumber': '37',\n",
      "              'lat': 51.54246985384615,\n",
      "              'lon': -0.056997653846153844,\n",
      "              'neighbourhood': 'Victoria Park Village',\n",
      "              'place_id': '515f986fe6cb2eadbf59e5aaf4a66fc54940f00102f9018b31a91d00000000c00203',\n",
      "              'postcode': 'E8 3PA',\n",
      "              'rank': {'importance': -0.1, 'popularity': 8.103281660378888},\n",
      "              'result_type': 'building',\n",
      "              'state': 'England',\n",
      "              'state_code': 'ENG',\n",
      "              'street': 'Ellingfort Road',\n",
      "              'suburb': 'Shacklewell',\n",
      "              'timezone': {'abbreviation_DST': 'BST',\n",
      "                           'abbreviation_STD': 'GMT',\n",
      "                           'name': 'Europe/London',\n",
      "                           'offset_DST': '+01:00',\n",
      "                           'offset_DST_seconds': 3600,\n",
      "                           'offset_STD': '+00:00',\n",
      "                           'offset_STD_seconds': 0}}]}\n"
     ]
    }
   ]
  },
  {
   "cell_type": "code",
   "source": [
    "# taken the centroid coordinates of each london borough from the internet & put into a dictionary \n",
    "\n",
    "long_lat_london_borough_centroid = [\n",
    "    {'lat': '51.456232005344', 'lon': '-0.192802447497'},\n",
    "    {'lat': '51.515500000000', 'lon': '-0.092200000000'},\n",
    "    {'lat': '51.546500000000', 'lon': '0.129300000000'},\n",
    "    {'lat': '51.625200000000', 'lon': '-0.151700000000'},\n",
    "    {'lat': '51.454900000000', 'lon': '0.150500000000'},\n",
    "    {'lat': '51.558800000000', 'lon': '-0.281700000000'},\n",
    "    {'lat': '51.403900000000', 'lon': '0.019800000000'},\n",
    "    {'lat': '51.529000000000', 'lon': '-0.125500000000'},\n",
    "    {'lat': '51.371400000000', 'lon': '-0.097700000000'},\n",
    "    {'lat': '51.513000000000', 'lon': '-0.308900000000'},\n",
    "    {'lat': '51.653800000000', 'lon': '-0.079900000000'},\n",
    "    {'lat': '51.489200000000', 'lon': '0.064800000000'},\n",
    "    {'lat': '51.545000000000', 'lon': '-0.055300000000'},\n",
    "    {'lat': '51.492700000000', 'lon': '-0.217500000000'},\n",
    "    {'lat': '51.600000000000', 'lon': '-0.111900000000'},\n",
    "    {'lat': '51.589800000000', 'lon': '-0.334600000000'},\n",
    "    {'lat': '51.581200000000', 'lon': '0.183700000000'},\n",
    "    {'lat': '51.544100000000', 'lon': '-0.476000000000'},\n",
    "    {'lat': '51.544100000000', 'lon': '-0.476000000000'},\n",
    "    {'lat': '51.474600000000', 'lon': '-0.368000000000'},\n",
    "    {'lat': '51.541600000000', 'lon': '-0.102200000000'},\n",
    "    {'lat': '51.502000000000', 'lon': '-0.194700000000'},\n",
    "    {'lat': '51.408500000000', 'lon': '-0.306400000000'},\n",
    "    {'lat': '51.460700000000', 'lon': '-0.116300000000'},\n",
    "    {'lat': '51.445200000000', 'lon': '-0.020900000000'},\n",
    "    {'lat': '51.401400000000', 'lon': '-0.195800000000'},\n",
    "    {'lat': '51.507700000000', 'lon': '0.046900000000'},\n",
    "    {'lat': '51.559000000000', 'lon': '0.074100000000'},\n",
    "    {'lat': '51.447900000000', 'lon': '-0.326000000000'},\n",
    "    {'lat': '51.503500000000', 'lon': '-0.080400000000'},\n",
    "    {'lat': '51.361800000000', 'lon': '-0.194500000000'},\n",
    "    {'lat': '51.509900000000', 'lon': '-0.005900000000'},\n",
    "    {'lat': '51.590800000000', 'lon': '-0.013400000000'}\n",
    "]\n",
    "\n",
    "print(f\"There are {len(long_lat_london_borough_centroid)} rows in 'long_lat_london_borough_centroid'\")"
   ],
   "metadata": {
    "colab": {
     "base_uri": "https://localhost:8080/"
    },
    "id": "8wrorIyt34p5",
    "executionInfo": {
     "status": "ok",
     "timestamp": 1684931945329,
     "user_tz": -60,
     "elapsed": 8,
     "user": {
      "displayName": "Charlotte Pollard (Lottie Jane)",
      "userId": "10176804658656864664"
     }
    },
    "outputId": "eae3d16d-35f7-466d-84f2-ce24907144cb",
    "ExecuteTime": {
     "end_time": "2023-05-27T18:57:03.634084Z",
     "start_time": "2023-05-27T18:57:03.621959Z"
    }
   },
   "execution_count": 2,
   "outputs": [
    {
     "name": "stdout",
     "output_type": "stream",
     "text": [
      "There are 33 rows in 'long_lat_london_borough_centroid'\n"
     ]
    }
   ]
  },
  {
   "cell_type": "code",
   "source": [
    "# pass the coordinate list into a function that calls geoapify API and returns a list of postcodes\n",
    "\n",
    "postcodes = []\n",
    "\n",
    "def nbh_from_lon_lat(coords):\n",
    "    appid = \"bb8c2d188f8641698c83bf0dbe6d4999\"\n",
    "\n",
    "    for coord in coords:\n",
    "        lat = coord['lat']\n",
    "        lon = coord['lon']\n",
    "        url = f'https://api.geoapify.com/v1/geocode/reverse?lat={lat}&lon={lon}&format=json&apiKey={appid}'\n",
    "        response = requests.get(url)\n",
    "        json = response.json()\n",
    "        postcode = json['results'][0]['postcode']\n",
    "        postcodes.append(postcode)\n",
    "\n",
    "    return postcodes\n",
    "\n",
    "\n",
    "nbh_from_lon_lat(long_lat_london_borough_centroid)\n",
    "print(f\"There are {len(postcodes)} rows in 'postcodes'\")"
   ],
   "metadata": {
    "colab": {
     "base_uri": "https://localhost:8080/"
    },
    "id": "jOnI2Bby4LUz",
    "executionInfo": {
     "status": "ok",
     "timestamp": 1684931976958,
     "user_tz": -60,
     "elapsed": 31634,
     "user": {
      "displayName": "Charlotte Pollard (Lottie Jane)",
      "userId": "10176804658656864664"
     }
    },
    "outputId": "8a7b66ff-1a71-4d51-a486-88d70e6c8b90",
    "ExecuteTime": {
     "end_time": "2023-05-27T18:57:24.599092Z",
     "start_time": "2023-05-27T18:57:08.316454Z"
    }
   },
   "execution_count": 3,
   "outputs": [
    {
     "name": "stdout",
     "output_type": "stream",
     "text": [
      "There are 33 rows in 'postcodes'\n"
     ]
    }
   ]
  },
  {
   "cell_type": "code",
   "source": [
    "# convert the list into a dataseries to pass into the next API \n",
    "import pandas as pd\n",
    "\n",
    "postcode_series = pd.Series(postcodes)\n",
    "\n",
    "print(postcode_series)\n",
    "print(f\"There are {len(postcode_series)} rows in 'postcode_series'\")\n"
   ],
   "metadata": {
    "colab": {
     "base_uri": "https://localhost:8080/"
    },
    "id": "pWALx4mu4mDn",
    "executionInfo": {
     "status": "ok",
     "timestamp": 1684931977533,
     "user_tz": -60,
     "elapsed": 596,
     "user": {
      "displayName": "Charlotte Pollard (Lottie Jane)",
      "userId": "10176804658656864664"
     }
    },
    "outputId": "f494ad0f-4a4d-4042-e1bc-b182aa0ca4bd",
    "ExecuteTime": {
     "end_time": "2023-05-27T19:00:52.413019Z",
     "start_time": "2023-05-27T19:00:51.803136Z"
    }
   },
   "execution_count": 4,
   "outputs": [
    {
     "name": "stdout",
     "output_type": "stream",
     "text": [
      "0     SW18 4BX\n",
      "1     EC2V 5AE\n",
      "2      RM9 5YJ\n",
      "3      N11 1NP\n",
      "4      DA6 7JZ\n",
      "5      HA9 0FJ\n",
      "6      BR1 9TD\n",
      "7     WC1H 9DW\n",
      "8      CR0 1ER\n",
      "9       W5 5SA\n",
      "10     EN1 3TN\n",
      "11    SE18 6PH\n",
      "12      E8 1HE\n",
      "13      W6 8BS\n",
      "14     N22 7GS\n",
      "15     HA1 1XY\n",
      "16     RM1 4AX\n",
      "17     UB8 1LD\n",
      "18     UB8 1LD\n",
      "19     TW3 4FE\n",
      "20      N1 2UD\n",
      "21      W8 7RW\n",
      "22     KT1 1BB\n",
      "23     SW2 1RW\n",
      "24     SE6 4RU\n",
      "25     SM4 5HP\n",
      "26     E16 2QU\n",
      "27     IG1 1DD\n",
      "28     TW1 3BZ\n",
      "29     SE1 2TZ\n",
      "30     SM1 9SF\n",
      "31     E14 2BB\n",
      "32     E17 4JF\n",
      "dtype: object\n",
      "There are 33 rows in 'postcode_series'\n"
     ]
    }
   ]
  },
  {
   "cell_type": "code",
   "source": [
    "# add the markers to the postcode series \n",
    "\n",
    "marker_data = [\n",
    "    {'postcode': 'SW18 4JT', 'popup': 'Wandsworth'},\n",
    "    {'postcode': 'EC2V 5AE', 'popup': 'City of London'},\n",
    "    {'postcode': 'RM9 5YJ', 'popup': 'Barking and Dagenham'},\n",
    "    {'postcode': 'N11 1NP', 'popup': 'Barnet'},\n",
    "    {'postcode': 'DA6 7JZ', 'popup': 'Bexley'},\n",
    "    {'postcode': 'HA9 0FJ', 'popup': 'Brent'},\n",
    "    {'postcode': 'BR1 9SE', 'popup': 'Bromley'},\n",
    "    {'postcode': 'WC1H 9DW', 'popup': 'Camden'},\n",
    "    {'postcode': 'CR0 1ER', 'popup': 'Croydon'},\n",
    "    {'postcode': 'W5 5SA', 'popup': 'Ealing'},\n",
    "    {'postcode': 'EN1 3TN', 'popup': 'Enfield'},\n",
    "    {'postcode': 'SE18 6PH', 'popup': 'Greenwich'},\n",
    "    {'postcode': 'E8 1HE', 'popup': 'Hackney'},\n",
    "    {'postcode': 'W6 8BS', 'popup': 'Hammersmith and Fulham'},\n",
    "    {'postcode': 'N22 7GS', 'popup': 'Haringey'},\n",
    "    {'postcode': 'HA1 1XY', 'popup': 'Harrow'},\n",
    "    {'postcode': 'RM1 4AX', 'popup': 'Havering'},\n",
    "    {'postcode': 'UB8 1LD', 'popup': 'Hillingdon'},\n",
    "    {'postcode': 'UB8 1LD', 'popup': 'Hillingdon'},\n",
    "    {'postcode': 'TW3 4FE', 'popup': 'Hounslow'},\n",
    "    {'postcode': 'N1 2UD', 'popup': 'Islington'},\n",
    "    {'postcode': 'W8 7RW', 'popup': 'Kensington and Chelsea'},\n",
    "    {'postcode': 'KT1 1BB', 'popup': 'Kingston upon Thames'},\n",
    "    {'postcode': 'SW2 1RW', 'popup': 'Lambeth'},\n",
    "    {'postcode': 'SE6 4RU', 'popup': 'Lewisham'},\n",
    "    {'postcode': 'SM4 5HP', 'popup': 'Merton'},\n",
    "    {'postcode': 'E16 2QU', 'popup': 'Newham'},\n",
    "    {'postcode': 'IG1 1DD', 'popup': 'Redbridge'},\n",
    "    {'postcode': 'TW1 3BZ', 'popup': 'Richmond upon Thames'},\n",
    "    {'postcode': 'SE1 2TZ', 'popup': 'Southwark'},\n",
    "    {'postcode': 'SM1 9SF', 'popup': 'Sutton'},\n",
    "    {'postcode': 'E14 2BB', 'popup': 'Tower Hamlets'},\n",
    "    {'postcode': 'E17 4JF', 'popup': 'Waltham Forest'}\n",
    "]"
   ],
   "metadata": {
    "id": "ncSqvPSvzuE5",
    "ExecuteTime": {
     "end_time": "2023-05-27T19:00:55.327035Z",
     "start_time": "2023-05-27T19:00:55.301015Z"
    }
   },
   "execution_count": 5,
   "outputs": []
  },
  {
   "cell_type": "code",
   "source": [
    "# using the folium library and the nominatim API, pass the postcodes in and plot them onto an interactive map\n",
    "\n",
    "import folium\n",
    "\n",
    "map = folium.Map(location=[0, 0], zoom_start=3, width=1500, height=1000, zoom_control=True, control_scale=True)\n",
    "\n",
    "for marker in marker_data:\n",
    "    postcode = marker['postcode']\n",
    "    borough = marker['popup']\n",
    "    \n",
    "    response = requests.get('https://nominatim.openstreetmap.org/search', params={'q': postcode, 'format': 'json'})\n",
    "\n",
    "    if response.status_code == 200 and len(response.json()) > 0:\n",
    "        latitude = response.json()[0]['lat']\n",
    "        longitude = response.json()[0]['lon']\n",
    "\n",
    "        folium.Marker(\n",
    "            location=[float(latitude), float(longitude)],\n",
    "            popup=f'London Borough of {borough}',\n",
    "            icon=folium.Icon(icon='star', color='purple')\n",
    "        ).add_to(map)\n",
    "\n",
    "map.fit_bounds(long_lat_london_borough_centroid)\n",
    "\n",
    "map.save('london_boroughs_included.html')\n",
    "\n",
    "map\n"
   ],
   "metadata": {
    "colab": {
     "base_uri": "https://localhost:8080/",
     "height": 1000
    },
    "id": "KuwpakV20Z2H",
    "executionInfo": {
     "status": "ok",
     "timestamp": 1684933055825,
     "user_tz": -60,
     "elapsed": 34305,
     "user": {
      "displayName": "Charlotte Pollard (Lottie Jane)",
      "userId": "10176804658656864664"
     }
    },
    "outputId": "2e894b07-9a8d-42ed-c846-f56e4def142e",
    "ExecuteTime": {
     "end_time": "2023-05-27T19:01:17.072358Z",
     "start_time": "2023-05-27T19:01:00.262784Z"
    }
   },
   "execution_count": 6,
   "outputs": [
    {
     "data": {
      "text/plain": "<folium.folium.Map at 0x10b609bd0>",
      "text/html": "<div style=\"width:100%;\"><div style=\"position:relative;width:100%;height:0;padding-bottom:60%;\"><span style=\"color:#565656\">Make this Notebook Trusted to load map: File -> Trust Notebook</span><iframe srcdoc=\"&lt;!DOCTYPE html&gt;\n&lt;html&gt;\n&lt;head&gt;\n    \n    &lt;meta http-equiv=&quot;content-type&quot; content=&quot;text/html; charset=UTF-8&quot; /&gt;\n    \n        &lt;script&gt;\n            L_NO_TOUCH = false;\n            L_DISABLE_3D = false;\n        &lt;/script&gt;\n    \n    &lt;style&gt;html, body {width: 100%;height: 100%;margin: 0;padding: 0;}&lt;/style&gt;\n    &lt;style&gt;#map {position:absolute;top:0;bottom:0;right:0;left:0;}&lt;/style&gt;\n    &lt;script src=&quot;https://cdn.jsdelivr.net/npm/leaflet@1.9.3/dist/leaflet.js&quot;&gt;&lt;/script&gt;\n    &lt;script src=&quot;https://code.jquery.com/jquery-1.12.4.min.js&quot;&gt;&lt;/script&gt;\n    &lt;script src=&quot;https://cdn.jsdelivr.net/npm/bootstrap@5.2.2/dist/js/bootstrap.bundle.min.js&quot;&gt;&lt;/script&gt;\n    &lt;script src=&quot;https://cdnjs.cloudflare.com/ajax/libs/Leaflet.awesome-markers/2.0.2/leaflet.awesome-markers.js&quot;&gt;&lt;/script&gt;\n    &lt;link rel=&quot;stylesheet&quot; href=&quot;https://cdn.jsdelivr.net/npm/leaflet@1.9.3/dist/leaflet.css&quot;/&gt;\n    &lt;link rel=&quot;stylesheet&quot; href=&quot;https://cdn.jsdelivr.net/npm/bootstrap@5.2.2/dist/css/bootstrap.min.css&quot;/&gt;\n    &lt;link rel=&quot;stylesheet&quot; href=&quot;https://netdna.bootstrapcdn.com/bootstrap/3.0.0/css/bootstrap.min.css&quot;/&gt;\n    &lt;link rel=&quot;stylesheet&quot; href=&quot;https://cdn.jsdelivr.net/npm/@fortawesome/fontawesome-free@6.2.0/css/all.min.css&quot;/&gt;\n    &lt;link rel=&quot;stylesheet&quot; href=&quot;https://cdnjs.cloudflare.com/ajax/libs/Leaflet.awesome-markers/2.0.2/leaflet.awesome-markers.css&quot;/&gt;\n    &lt;link rel=&quot;stylesheet&quot; href=&quot;https://cdn.jsdelivr.net/gh/python-visualization/folium/folium/templates/leaflet.awesome.rotate.min.css&quot;/&gt;\n    \n            &lt;meta name=&quot;viewport&quot; content=&quot;width=device-width,\n                initial-scale=1.0, maximum-scale=1.0, user-scalable=no&quot; /&gt;\n            &lt;style&gt;\n                #map_fe8e9a1dd10fe971a884ee8c79a99b36 {\n                    position: relative;\n                    width: 1500.0px;\n                    height: 1000.0px;\n                    left: 0.0%;\n                    top: 0.0%;\n                }\n                .leaflet-container { font-size: 1rem; }\n            &lt;/style&gt;\n        \n&lt;/head&gt;\n&lt;body&gt;\n    \n    \n            &lt;div class=&quot;folium-map&quot; id=&quot;map_fe8e9a1dd10fe971a884ee8c79a99b36&quot; &gt;&lt;/div&gt;\n        \n&lt;/body&gt;\n&lt;script&gt;\n    \n    \n            var map_fe8e9a1dd10fe971a884ee8c79a99b36 = L.map(\n                &quot;map_fe8e9a1dd10fe971a884ee8c79a99b36&quot;,\n                {\n                    center: [0.0, 0.0],\n                    crs: L.CRS.EPSG3857,\n                    zoom: 3,\n                    zoomControl: true,\n                    preferCanvas: false,\n                }\n            );\n            L.control.scale().addTo(map_fe8e9a1dd10fe971a884ee8c79a99b36);\n\n            \n\n        \n    \n            var tile_layer_ddd63bbb748f3fc721c35c68d9ab2027 = L.tileLayer(\n                &quot;https://{s}.tile.openstreetmap.org/{z}/{x}/{y}.png&quot;,\n                {&quot;attribution&quot;: &quot;Data by \\u0026copy; \\u003ca target=\\&quot;_blank\\&quot; href=\\&quot;http://openstreetmap.org\\&quot;\\u003eOpenStreetMap\\u003c/a\\u003e, under \\u003ca target=\\&quot;_blank\\&quot; href=\\&quot;http://www.openstreetmap.org/copyright\\&quot;\\u003eODbL\\u003c/a\\u003e.&quot;, &quot;detectRetina&quot;: false, &quot;maxNativeZoom&quot;: 18, &quot;maxZoom&quot;: 18, &quot;minZoom&quot;: 0, &quot;noWrap&quot;: false, &quot;opacity&quot;: 1, &quot;subdomains&quot;: &quot;abc&quot;, &quot;tms&quot;: false}\n            ).addTo(map_fe8e9a1dd10fe971a884ee8c79a99b36);\n        \n    \n            var marker_3d72978a784136a6ab3d7b204914cd4e = L.marker(\n                [51.45676326666667, -0.19543606666666669],\n                {}\n            ).addTo(map_fe8e9a1dd10fe971a884ee8c79a99b36);\n        \n    \n            var icon_d6291c7e7f7e2e50b23e9b4066a4d33d = L.AwesomeMarkers.icon(\n                {&quot;extraClasses&quot;: &quot;fa-rotate-0&quot;, &quot;icon&quot;: &quot;star&quot;, &quot;iconColor&quot;: &quot;white&quot;, &quot;markerColor&quot;: &quot;purple&quot;, &quot;prefix&quot;: &quot;glyphicon&quot;}\n            );\n            marker_3d72978a784136a6ab3d7b204914cd4e.setIcon(icon_d6291c7e7f7e2e50b23e9b4066a4d33d);\n        \n    \n        var popup_bf75d4818cd0027f53706de228819703 = L.popup({&quot;maxWidth&quot;: &quot;100%&quot;});\n\n        \n            \n                var html_b7becb19e13d37becf8661e2eff40ddc = $(`&lt;div id=&quot;html_b7becb19e13d37becf8661e2eff40ddc&quot; style=&quot;width: 100.0%; height: 100.0%;&quot;&gt;London Borough of Wandsworth&lt;/div&gt;`)[0];\n                popup_bf75d4818cd0027f53706de228819703.setContent(html_b7becb19e13d37becf8661e2eff40ddc);\n            \n        \n\n        marker_3d72978a784136a6ab3d7b204914cd4e.bindPopup(popup_bf75d4818cd0027f53706de228819703)\n        ;\n\n        \n    \n    \n            var marker_7d840cfa0fe886f3cecb26234cb55707 = L.marker(\n                [51.51542815, -0.0916184],\n                {}\n            ).addTo(map_fe8e9a1dd10fe971a884ee8c79a99b36);\n        \n    \n            var icon_6b3639676a05871870f68f79f6bc4cf0 = L.AwesomeMarkers.icon(\n                {&quot;extraClasses&quot;: &quot;fa-rotate-0&quot;, &quot;icon&quot;: &quot;star&quot;, &quot;iconColor&quot;: &quot;white&quot;, &quot;markerColor&quot;: &quot;purple&quot;, &quot;prefix&quot;: &quot;glyphicon&quot;}\n            );\n            marker_7d840cfa0fe886f3cecb26234cb55707.setIcon(icon_6b3639676a05871870f68f79f6bc4cf0);\n        \n    \n        var popup_32ffa238ba2e76d649a2fb8d91de7fcc = L.popup({&quot;maxWidth&quot;: &quot;100%&quot;});\n\n        \n            \n                var html_eb4218bcbda5d638f9e6929e4f9e8c77 = $(`&lt;div id=&quot;html_eb4218bcbda5d638f9e6929e4f9e8c77&quot; style=&quot;width: 100.0%; height: 100.0%;&quot;&gt;London Borough of City of London&lt;/div&gt;`)[0];\n                popup_32ffa238ba2e76d649a2fb8d91de7fcc.setContent(html_eb4218bcbda5d638f9e6929e4f9e8c77);\n            \n        \n\n        marker_7d840cfa0fe886f3cecb26234cb55707.bindPopup(popup_32ffa238ba2e76d649a2fb8d91de7fcc)\n        ;\n\n        \n    \n    \n            var marker_5b81b144167718121fb8687d5120ea12 = L.marker(\n                [51.54782, 0.13044],\n                {}\n            ).addTo(map_fe8e9a1dd10fe971a884ee8c79a99b36);\n        \n    \n            var icon_c40e14bbc1d88b15a07cd54147d1e641 = L.AwesomeMarkers.icon(\n                {&quot;extraClasses&quot;: &quot;fa-rotate-0&quot;, &quot;icon&quot;: &quot;star&quot;, &quot;iconColor&quot;: &quot;white&quot;, &quot;markerColor&quot;: &quot;purple&quot;, &quot;prefix&quot;: &quot;glyphicon&quot;}\n            );\n            marker_5b81b144167718121fb8687d5120ea12.setIcon(icon_c40e14bbc1d88b15a07cd54147d1e641);\n        \n    \n        var popup_bad0c3f9307812c07c340b49bf6926e3 = L.popup({&quot;maxWidth&quot;: &quot;100%&quot;});\n\n        \n            \n                var html_9b3ceed36b8a47dbb8c35ae0125ac0af = $(`&lt;div id=&quot;html_9b3ceed36b8a47dbb8c35ae0125ac0af&quot; style=&quot;width: 100.0%; height: 100.0%;&quot;&gt;London Borough of Barking and Dagenham&lt;/div&gt;`)[0];\n                popup_bad0c3f9307812c07c340b49bf6926e3.setContent(html_9b3ceed36b8a47dbb8c35ae0125ac0af);\n            \n        \n\n        marker_5b81b144167718121fb8687d5120ea12.bindPopup(popup_bad0c3f9307812c07c340b49bf6926e3)\n        ;\n\n        \n    \n    \n            var marker_16f4ca0acd4bd66fded0ba78fe714644 = L.marker(\n                [51.62543955, -0.15250295],\n                {}\n            ).addTo(map_fe8e9a1dd10fe971a884ee8c79a99b36);\n        \n    \n            var icon_1c9f5c8d6c9e486cdf366c46c8fa61b2 = L.AwesomeMarkers.icon(\n                {&quot;extraClasses&quot;: &quot;fa-rotate-0&quot;, &quot;icon&quot;: &quot;star&quot;, &quot;iconColor&quot;: &quot;white&quot;, &quot;markerColor&quot;: &quot;purple&quot;, &quot;prefix&quot;: &quot;glyphicon&quot;}\n            );\n            marker_16f4ca0acd4bd66fded0ba78fe714644.setIcon(icon_1c9f5c8d6c9e486cdf366c46c8fa61b2);\n        \n    \n        var popup_6145e186c3b3d8f6d97c0f09c7ec7137 = L.popup({&quot;maxWidth&quot;: &quot;100%&quot;});\n\n        \n            \n                var html_07a2ea36ec1fec99ce1327f76088db12 = $(`&lt;div id=&quot;html_07a2ea36ec1fec99ce1327f76088db12&quot; style=&quot;width: 100.0%; height: 100.0%;&quot;&gt;London Borough of Barnet&lt;/div&gt;`)[0];\n                popup_6145e186c3b3d8f6d97c0f09c7ec7137.setContent(html_07a2ea36ec1fec99ce1327f76088db12);\n            \n        \n\n        marker_16f4ca0acd4bd66fded0ba78fe714644.bindPopup(popup_6145e186c3b3d8f6d97c0f09c7ec7137)\n        ;\n\n        \n    \n    \n            var marker_600eb4e31a9c2a70ec69c357d031d135 = L.marker(\n                [51.4548064, 0.1522431],\n                {}\n            ).addTo(map_fe8e9a1dd10fe971a884ee8c79a99b36);\n        \n    \n            var icon_42b7ee363521b25f59bbc8480afac383 = L.AwesomeMarkers.icon(\n                {&quot;extraClasses&quot;: &quot;fa-rotate-0&quot;, &quot;icon&quot;: &quot;star&quot;, &quot;iconColor&quot;: &quot;white&quot;, &quot;markerColor&quot;: &quot;purple&quot;, &quot;prefix&quot;: &quot;glyphicon&quot;}\n            );\n            marker_600eb4e31a9c2a70ec69c357d031d135.setIcon(icon_42b7ee363521b25f59bbc8480afac383);\n        \n    \n        var popup_9a93509e335ab3284366501e8696bdb7 = L.popup({&quot;maxWidth&quot;: &quot;100%&quot;});\n\n        \n            \n                var html_d27ff4206e84cb4fbbbd016238c81ea8 = $(`&lt;div id=&quot;html_d27ff4206e84cb4fbbbd016238c81ea8&quot; style=&quot;width: 100.0%; height: 100.0%;&quot;&gt;London Borough of Bexley&lt;/div&gt;`)[0];\n                popup_9a93509e335ab3284366501e8696bdb7.setContent(html_d27ff4206e84cb4fbbbd016238c81ea8);\n            \n        \n\n        marker_600eb4e31a9c2a70ec69c357d031d135.bindPopup(popup_9a93509e335ab3284366501e8696bdb7)\n        ;\n\n        \n    \n    \n            var marker_b73f5e2d6a6b2fe949941fb8d329a311 = L.marker(\n                [51.55884895, -0.28126205],\n                {}\n            ).addTo(map_fe8e9a1dd10fe971a884ee8c79a99b36);\n        \n    \n            var icon_627884808b6b27e83b0ec23fc4dda9d3 = L.AwesomeMarkers.icon(\n                {&quot;extraClasses&quot;: &quot;fa-rotate-0&quot;, &quot;icon&quot;: &quot;star&quot;, &quot;iconColor&quot;: &quot;white&quot;, &quot;markerColor&quot;: &quot;purple&quot;, &quot;prefix&quot;: &quot;glyphicon&quot;}\n            );\n            marker_b73f5e2d6a6b2fe949941fb8d329a311.setIcon(icon_627884808b6b27e83b0ec23fc4dda9d3);\n        \n    \n        var popup_94508f152cf28c83f674e0081dd362fa = L.popup({&quot;maxWidth&quot;: &quot;100%&quot;});\n\n        \n            \n                var html_876492288649437621a1f6acb3ec9fd9 = $(`&lt;div id=&quot;html_876492288649437621a1f6acb3ec9fd9&quot; style=&quot;width: 100.0%; height: 100.0%;&quot;&gt;London Borough of Brent&lt;/div&gt;`)[0];\n                popup_94508f152cf28c83f674e0081dd362fa.setContent(html_876492288649437621a1f6acb3ec9fd9);\n            \n        \n\n        marker_b73f5e2d6a6b2fe949941fb8d329a311.bindPopup(popup_94508f152cf28c83f674e0081dd362fa)\n        ;\n\n        \n    \n    \n            var marker_a84ccadfb2bd499ee25b038879d50ec2 = L.marker(\n                [51.40388, 0.02038],\n                {}\n            ).addTo(map_fe8e9a1dd10fe971a884ee8c79a99b36);\n        \n    \n            var icon_1697d3ee7c734ce90b306673b5f1ce39 = L.AwesomeMarkers.icon(\n                {&quot;extraClasses&quot;: &quot;fa-rotate-0&quot;, &quot;icon&quot;: &quot;star&quot;, &quot;iconColor&quot;: &quot;white&quot;, &quot;markerColor&quot;: &quot;purple&quot;, &quot;prefix&quot;: &quot;glyphicon&quot;}\n            );\n            marker_a84ccadfb2bd499ee25b038879d50ec2.setIcon(icon_1697d3ee7c734ce90b306673b5f1ce39);\n        \n    \n        var popup_66b4f6f32c8f7e24ea01b08881644583 = L.popup({&quot;maxWidth&quot;: &quot;100%&quot;});\n\n        \n            \n                var html_1f8aaa00975b939210dab53007b809e0 = $(`&lt;div id=&quot;html_1f8aaa00975b939210dab53007b809e0&quot; style=&quot;width: 100.0%; height: 100.0%;&quot;&gt;London Borough of Bromley&lt;/div&gt;`)[0];\n                popup_66b4f6f32c8f7e24ea01b08881644583.setContent(html_1f8aaa00975b939210dab53007b809e0);\n            \n        \n\n        marker_a84ccadfb2bd499ee25b038879d50ec2.bindPopup(popup_66b4f6f32c8f7e24ea01b08881644583)\n        ;\n\n        \n    \n    \n            var marker_53cc66cfdb03f879d000c1a97bd79827 = L.marker(\n                [51.5289011, -0.12475775],\n                {}\n            ).addTo(map_fe8e9a1dd10fe971a884ee8c79a99b36);\n        \n    \n            var icon_8ab4f9ee127b31af2a0db5ff81448e03 = L.AwesomeMarkers.icon(\n                {&quot;extraClasses&quot;: &quot;fa-rotate-0&quot;, &quot;icon&quot;: &quot;star&quot;, &quot;iconColor&quot;: &quot;white&quot;, &quot;markerColor&quot;: &quot;purple&quot;, &quot;prefix&quot;: &quot;glyphicon&quot;}\n            );\n            marker_53cc66cfdb03f879d000c1a97bd79827.setIcon(icon_8ab4f9ee127b31af2a0db5ff81448e03);\n        \n    \n        var popup_a31b11c1d9ed4ca88de120cfd500aa18 = L.popup({&quot;maxWidth&quot;: &quot;100%&quot;});\n\n        \n            \n                var html_6dce4c9aa89ffce6b767cf5d8ec899a9 = $(`&lt;div id=&quot;html_6dce4c9aa89ffce6b767cf5d8ec899a9&quot; style=&quot;width: 100.0%; height: 100.0%;&quot;&gt;London Borough of Camden&lt;/div&gt;`)[0];\n                popup_a31b11c1d9ed4ca88de120cfd500aa18.setContent(html_6dce4c9aa89ffce6b767cf5d8ec899a9);\n            \n        \n\n        marker_53cc66cfdb03f879d000c1a97bd79827.bindPopup(popup_a31b11c1d9ed4ca88de120cfd500aa18)\n        ;\n\n        \n    \n    \n            var marker_344aff515311152b6a018ee170f9e66c = L.marker(\n                [51.3705755, -0.0976555],\n                {}\n            ).addTo(map_fe8e9a1dd10fe971a884ee8c79a99b36);\n        \n    \n            var icon_f448a6a64a92bb0cdcba101d4fdc249e = L.AwesomeMarkers.icon(\n                {&quot;extraClasses&quot;: &quot;fa-rotate-0&quot;, &quot;icon&quot;: &quot;star&quot;, &quot;iconColor&quot;: &quot;white&quot;, &quot;markerColor&quot;: &quot;purple&quot;, &quot;prefix&quot;: &quot;glyphicon&quot;}\n            );\n            marker_344aff515311152b6a018ee170f9e66c.setIcon(icon_f448a6a64a92bb0cdcba101d4fdc249e);\n        \n    \n        var popup_9629c19d50c81a08bea6df0b2057852f = L.popup({&quot;maxWidth&quot;: &quot;100%&quot;});\n\n        \n            \n                var html_f7e5027d4fc2b4e906affb09cd6cb2dc = $(`&lt;div id=&quot;html_f7e5027d4fc2b4e906affb09cd6cb2dc&quot; style=&quot;width: 100.0%; height: 100.0%;&quot;&gt;London Borough of Croydon&lt;/div&gt;`)[0];\n                popup_9629c19d50c81a08bea6df0b2057852f.setContent(html_f7e5027d4fc2b4e906affb09cd6cb2dc);\n            \n        \n\n        marker_344aff515311152b6a018ee170f9e66c.bindPopup(popup_9629c19d50c81a08bea6df0b2057852f)\n        ;\n\n        \n    \n    \n            var marker_3522d95260ff7692b196b70004cdac8e = L.marker(\n                [51.51223323333333, -0.30935165],\n                {}\n            ).addTo(map_fe8e9a1dd10fe971a884ee8c79a99b36);\n        \n    \n            var icon_90fdee4b5222927f80f6e5edf553ec52 = L.AwesomeMarkers.icon(\n                {&quot;extraClasses&quot;: &quot;fa-rotate-0&quot;, &quot;icon&quot;: &quot;star&quot;, &quot;iconColor&quot;: &quot;white&quot;, &quot;markerColor&quot;: &quot;purple&quot;, &quot;prefix&quot;: &quot;glyphicon&quot;}\n            );\n            marker_3522d95260ff7692b196b70004cdac8e.setIcon(icon_90fdee4b5222927f80f6e5edf553ec52);\n        \n    \n        var popup_730be6cd0fd2dc0249e7505bcd19d31a = L.popup({&quot;maxWidth&quot;: &quot;100%&quot;});\n\n        \n            \n                var html_84a7f16acd02d44af72f2fdf0a9b34dc = $(`&lt;div id=&quot;html_84a7f16acd02d44af72f2fdf0a9b34dc&quot; style=&quot;width: 100.0%; height: 100.0%;&quot;&gt;London Borough of Ealing&lt;/div&gt;`)[0];\n                popup_730be6cd0fd2dc0249e7505bcd19d31a.setContent(html_84a7f16acd02d44af72f2fdf0a9b34dc);\n            \n        \n\n        marker_3522d95260ff7692b196b70004cdac8e.bindPopup(popup_730be6cd0fd2dc0249e7505bcd19d31a)\n        ;\n\n        \n    \n    \n            var marker_db24e779fc004adc7348b38d3d79d33c = L.marker(\n                [51.65356, -0.0804],\n                {}\n            ).addTo(map_fe8e9a1dd10fe971a884ee8c79a99b36);\n        \n    \n            var icon_ddedf91ddd0551e3215eb658ebd130cd = L.AwesomeMarkers.icon(\n                {&quot;extraClasses&quot;: &quot;fa-rotate-0&quot;, &quot;icon&quot;: &quot;star&quot;, &quot;iconColor&quot;: &quot;white&quot;, &quot;markerColor&quot;: &quot;purple&quot;, &quot;prefix&quot;: &quot;glyphicon&quot;}\n            );\n            marker_db24e779fc004adc7348b38d3d79d33c.setIcon(icon_ddedf91ddd0551e3215eb658ebd130cd);\n        \n    \n        var popup_34dfcbe8d2c7c9f7fc0f458c4e4a349c = L.popup({&quot;maxWidth&quot;: &quot;100%&quot;});\n\n        \n            \n                var html_f9593f7c9c17d2952b23a1f578fc9a43 = $(`&lt;div id=&quot;html_f9593f7c9c17d2952b23a1f578fc9a43&quot; style=&quot;width: 100.0%; height: 100.0%;&quot;&gt;London Borough of Enfield&lt;/div&gt;`)[0];\n                popup_34dfcbe8d2c7c9f7fc0f458c4e4a349c.setContent(html_f9593f7c9c17d2952b23a1f578fc9a43);\n            \n        \n\n        marker_db24e779fc004adc7348b38d3d79d33c.bindPopup(popup_34dfcbe8d2c7c9f7fc0f458c4e4a349c)\n        ;\n\n        \n    \n    \n            var marker_8621fa806367a2b60e549790c7f57217 = L.marker(\n                [51.4897822, 0.0662679],\n                {}\n            ).addTo(map_fe8e9a1dd10fe971a884ee8c79a99b36);\n        \n    \n            var icon_282ec3d635af04cef0e954468c194fdb = L.AwesomeMarkers.icon(\n                {&quot;extraClasses&quot;: &quot;fa-rotate-0&quot;, &quot;icon&quot;: &quot;star&quot;, &quot;iconColor&quot;: &quot;white&quot;, &quot;markerColor&quot;: &quot;purple&quot;, &quot;prefix&quot;: &quot;glyphicon&quot;}\n            );\n            marker_8621fa806367a2b60e549790c7f57217.setIcon(icon_282ec3d635af04cef0e954468c194fdb);\n        \n    \n        var popup_dd4469e91d18dd21e44a33a3dc712118 = L.popup({&quot;maxWidth&quot;: &quot;100%&quot;});\n\n        \n            \n                var html_d6f594bb2c5d81022851c179205b9e29 = $(`&lt;div id=&quot;html_d6f594bb2c5d81022851c179205b9e29&quot; style=&quot;width: 100.0%; height: 100.0%;&quot;&gt;London Borough of Greenwich&lt;/div&gt;`)[0];\n                popup_dd4469e91d18dd21e44a33a3dc712118.setContent(html_d6f594bb2c5d81022851c179205b9e29);\n            \n        \n\n        marker_8621fa806367a2b60e549790c7f57217.bindPopup(popup_dd4469e91d18dd21e44a33a3dc712118)\n        ;\n\n        \n    \n    \n            var marker_adad136d907584c91d02d65f04dd858a = L.marker(\n                [51.5450627, -0.05493385],\n                {}\n            ).addTo(map_fe8e9a1dd10fe971a884ee8c79a99b36);\n        \n    \n            var icon_08e5665acc50ccea2b01f27973c82343 = L.AwesomeMarkers.icon(\n                {&quot;extraClasses&quot;: &quot;fa-rotate-0&quot;, &quot;icon&quot;: &quot;star&quot;, &quot;iconColor&quot;: &quot;white&quot;, &quot;markerColor&quot;: &quot;purple&quot;, &quot;prefix&quot;: &quot;glyphicon&quot;}\n            );\n            marker_adad136d907584c91d02d65f04dd858a.setIcon(icon_08e5665acc50ccea2b01f27973c82343);\n        \n    \n        var popup_d9068d4e85106e41ea022b3f803d6883 = L.popup({&quot;maxWidth&quot;: &quot;100%&quot;});\n\n        \n            \n                var html_35639614caacfa875a89353ecd4002f8 = $(`&lt;div id=&quot;html_35639614caacfa875a89353ecd4002f8&quot; style=&quot;width: 100.0%; height: 100.0%;&quot;&gt;London Borough of Hackney&lt;/div&gt;`)[0];\n                popup_d9068d4e85106e41ea022b3f803d6883.setContent(html_35639614caacfa875a89353ecd4002f8);\n            \n        \n\n        marker_adad136d907584c91d02d65f04dd858a.bindPopup(popup_d9068d4e85106e41ea022b3f803d6883)\n        ;\n\n        \n    \n    \n            var marker_ddaf67881dceb415d086a70651054b8a = L.marker(\n                [51.492993, -0.2174427],\n                {}\n            ).addTo(map_fe8e9a1dd10fe971a884ee8c79a99b36);\n        \n    \n            var icon_7f41a2c7f1ea8ccc25c4272c62a4edf1 = L.AwesomeMarkers.icon(\n                {&quot;extraClasses&quot;: &quot;fa-rotate-0&quot;, &quot;icon&quot;: &quot;star&quot;, &quot;iconColor&quot;: &quot;white&quot;, &quot;markerColor&quot;: &quot;purple&quot;, &quot;prefix&quot;: &quot;glyphicon&quot;}\n            );\n            marker_ddaf67881dceb415d086a70651054b8a.setIcon(icon_7f41a2c7f1ea8ccc25c4272c62a4edf1);\n        \n    \n        var popup_ea767644f04fdab060e0866e134fdd46 = L.popup({&quot;maxWidth&quot;: &quot;100%&quot;});\n\n        \n            \n                var html_b9e1c45d899f920915ad956c49f78ead = $(`&lt;div id=&quot;html_b9e1c45d899f920915ad956c49f78ead&quot; style=&quot;width: 100.0%; height: 100.0%;&quot;&gt;London Borough of Hammersmith and Fulham&lt;/div&gt;`)[0];\n                popup_ea767644f04fdab060e0866e134fdd46.setContent(html_b9e1c45d899f920915ad956c49f78ead);\n            \n        \n\n        marker_ddaf67881dceb415d086a70651054b8a.bindPopup(popup_ea767644f04fdab060e0866e134fdd46)\n        ;\n\n        \n    \n    \n            var marker_c0e0ae25332a8fd1fe95012f4259edcd = L.marker(\n                [51.59979, -0.11294],\n                {}\n            ).addTo(map_fe8e9a1dd10fe971a884ee8c79a99b36);\n        \n    \n            var icon_3737bef6f2153d32a7db5f329f385d90 = L.AwesomeMarkers.icon(\n                {&quot;extraClasses&quot;: &quot;fa-rotate-0&quot;, &quot;icon&quot;: &quot;star&quot;, &quot;iconColor&quot;: &quot;white&quot;, &quot;markerColor&quot;: &quot;purple&quot;, &quot;prefix&quot;: &quot;glyphicon&quot;}\n            );\n            marker_c0e0ae25332a8fd1fe95012f4259edcd.setIcon(icon_3737bef6f2153d32a7db5f329f385d90);\n        \n    \n        var popup_a09ff67516b51217ec70b1e46d670b30 = L.popup({&quot;maxWidth&quot;: &quot;100%&quot;});\n\n        \n            \n                var html_f731447acfd73e7c9e62323e13f84718 = $(`&lt;div id=&quot;html_f731447acfd73e7c9e62323e13f84718&quot; style=&quot;width: 100.0%; height: 100.0%;&quot;&gt;London Borough of Haringey&lt;/div&gt;`)[0];\n                popup_a09ff67516b51217ec70b1e46d670b30.setContent(html_f731447acfd73e7c9e62323e13f84718);\n            \n        \n\n        marker_c0e0ae25332a8fd1fe95012f4259edcd.bindPopup(popup_a09ff67516b51217ec70b1e46d670b30)\n        ;\n\n        \n    \n    \n            var marker_687df388c9913feb377a9103e259d15f = L.marker(\n                [51.59085, -0.33517],\n                {}\n            ).addTo(map_fe8e9a1dd10fe971a884ee8c79a99b36);\n        \n    \n            var icon_a0efe2eed49915aadb3414604ff41837 = L.AwesomeMarkers.icon(\n                {&quot;extraClasses&quot;: &quot;fa-rotate-0&quot;, &quot;icon&quot;: &quot;star&quot;, &quot;iconColor&quot;: &quot;white&quot;, &quot;markerColor&quot;: &quot;purple&quot;, &quot;prefix&quot;: &quot;glyphicon&quot;}\n            );\n            marker_687df388c9913feb377a9103e259d15f.setIcon(icon_a0efe2eed49915aadb3414604ff41837);\n        \n    \n        var popup_8553a5187fc6d3c324d80d3f8d2efe43 = L.popup({&quot;maxWidth&quot;: &quot;100%&quot;});\n\n        \n            \n                var html_3964a201eed38419f3d84e7cdc586504 = $(`&lt;div id=&quot;html_3964a201eed38419f3d84e7cdc586504&quot; style=&quot;width: 100.0%; height: 100.0%;&quot;&gt;London Borough of Harrow&lt;/div&gt;`)[0];\n                popup_8553a5187fc6d3c324d80d3f8d2efe43.setContent(html_3964a201eed38419f3d84e7cdc586504);\n            \n        \n\n        marker_687df388c9913feb377a9103e259d15f.bindPopup(popup_8553a5187fc6d3c324d80d3f8d2efe43)\n        ;\n\n        \n    \n    \n            var marker_3d87a8dc76b12f27f19ec1ce8d5f5e73 = L.marker(\n                [51.582, 0.18139],\n                {}\n            ).addTo(map_fe8e9a1dd10fe971a884ee8c79a99b36);\n        \n    \n            var icon_c74042dfbb259ede29356320b4ce80a6 = L.AwesomeMarkers.icon(\n                {&quot;extraClasses&quot;: &quot;fa-rotate-0&quot;, &quot;icon&quot;: &quot;star&quot;, &quot;iconColor&quot;: &quot;white&quot;, &quot;markerColor&quot;: &quot;purple&quot;, &quot;prefix&quot;: &quot;glyphicon&quot;}\n            );\n            marker_3d87a8dc76b12f27f19ec1ce8d5f5e73.setIcon(icon_c74042dfbb259ede29356320b4ce80a6);\n        \n    \n        var popup_5bebe05a6c8b2d43968ce72a07ecd550 = L.popup({&quot;maxWidth&quot;: &quot;100%&quot;});\n\n        \n            \n                var html_4f1e9eee2709c29a41fbb6dcc10f20e7 = $(`&lt;div id=&quot;html_4f1e9eee2709c29a41fbb6dcc10f20e7&quot; style=&quot;width: 100.0%; height: 100.0%;&quot;&gt;London Borough of Havering&lt;/div&gt;`)[0];\n                popup_5bebe05a6c8b2d43968ce72a07ecd550.setContent(html_4f1e9eee2709c29a41fbb6dcc10f20e7);\n            \n        \n\n        marker_3d87a8dc76b12f27f19ec1ce8d5f5e73.bindPopup(popup_5bebe05a6c8b2d43968ce72a07ecd550)\n        ;\n\n        \n    \n    \n            var marker_824e6462e852e6f237550249a9433bce = L.marker(\n                [51.54436, -0.47475],\n                {}\n            ).addTo(map_fe8e9a1dd10fe971a884ee8c79a99b36);\n        \n    \n            var icon_b31fe945536c9dba9b4b3668fcefeeb7 = L.AwesomeMarkers.icon(\n                {&quot;extraClasses&quot;: &quot;fa-rotate-0&quot;, &quot;icon&quot;: &quot;star&quot;, &quot;iconColor&quot;: &quot;white&quot;, &quot;markerColor&quot;: &quot;purple&quot;, &quot;prefix&quot;: &quot;glyphicon&quot;}\n            );\n            marker_824e6462e852e6f237550249a9433bce.setIcon(icon_b31fe945536c9dba9b4b3668fcefeeb7);\n        \n    \n        var popup_fddc5c2fc2162b3664d5afe6b1626c5c = L.popup({&quot;maxWidth&quot;: &quot;100%&quot;});\n\n        \n            \n                var html_f9317e9562b5a461aca8a91fa8da8fb7 = $(`&lt;div id=&quot;html_f9317e9562b5a461aca8a91fa8da8fb7&quot; style=&quot;width: 100.0%; height: 100.0%;&quot;&gt;London Borough of Hillingdon&lt;/div&gt;`)[0];\n                popup_fddc5c2fc2162b3664d5afe6b1626c5c.setContent(html_f9317e9562b5a461aca8a91fa8da8fb7);\n            \n        \n\n        marker_824e6462e852e6f237550249a9433bce.bindPopup(popup_fddc5c2fc2162b3664d5afe6b1626c5c)\n        ;\n\n        \n    \n    \n            var marker_80e9c825d203f91098b32ac91a5c58aa = L.marker(\n                [51.54436, -0.47475],\n                {}\n            ).addTo(map_fe8e9a1dd10fe971a884ee8c79a99b36);\n        \n    \n            var icon_a6193c2cc2a00e4ffae5d7d806cd315e = L.AwesomeMarkers.icon(\n                {&quot;extraClasses&quot;: &quot;fa-rotate-0&quot;, &quot;icon&quot;: &quot;star&quot;, &quot;iconColor&quot;: &quot;white&quot;, &quot;markerColor&quot;: &quot;purple&quot;, &quot;prefix&quot;: &quot;glyphicon&quot;}\n            );\n            marker_80e9c825d203f91098b32ac91a5c58aa.setIcon(icon_a6193c2cc2a00e4ffae5d7d806cd315e);\n        \n    \n        var popup_57662e10e653d0625d44fc272bd3ab10 = L.popup({&quot;maxWidth&quot;: &quot;100%&quot;});\n\n        \n            \n                var html_03847740fa5eeaa1e7529cc35bddfc4c = $(`&lt;div id=&quot;html_03847740fa5eeaa1e7529cc35bddfc4c&quot; style=&quot;width: 100.0%; height: 100.0%;&quot;&gt;London Borough of Hillingdon&lt;/div&gt;`)[0];\n                popup_57662e10e653d0625d44fc272bd3ab10.setContent(html_03847740fa5eeaa1e7529cc35bddfc4c);\n            \n        \n\n        marker_80e9c825d203f91098b32ac91a5c58aa.bindPopup(popup_57662e10e653d0625d44fc272bd3ab10)\n        ;\n\n        \n    \n    \n            var marker_fcaff2d02f28ebb612cbe75604b783a9 = L.marker(\n                [51.47395, -0.36736],\n                {}\n            ).addTo(map_fe8e9a1dd10fe971a884ee8c79a99b36);\n        \n    \n            var icon_5f101ad6f6cde7e15a702ce8f1cb9fbf = L.AwesomeMarkers.icon(\n                {&quot;extraClasses&quot;: &quot;fa-rotate-0&quot;, &quot;icon&quot;: &quot;star&quot;, &quot;iconColor&quot;: &quot;white&quot;, &quot;markerColor&quot;: &quot;purple&quot;, &quot;prefix&quot;: &quot;glyphicon&quot;}\n            );\n            marker_fcaff2d02f28ebb612cbe75604b783a9.setIcon(icon_5f101ad6f6cde7e15a702ce8f1cb9fbf);\n        \n    \n        var popup_e599220c2306d605fd036a943022452a = L.popup({&quot;maxWidth&quot;: &quot;100%&quot;});\n\n        \n            \n                var html_40b07fd74e9d3c7c784db21b01af6de9 = $(`&lt;div id=&quot;html_40b07fd74e9d3c7c784db21b01af6de9&quot; style=&quot;width: 100.0%; height: 100.0%;&quot;&gt;London Borough of Hounslow&lt;/div&gt;`)[0];\n                popup_e599220c2306d605fd036a943022452a.setContent(html_40b07fd74e9d3c7c784db21b01af6de9);\n            \n        \n\n        marker_fcaff2d02f28ebb612cbe75604b783a9.bindPopup(popup_e599220c2306d605fd036a943022452a)\n        ;\n\n        \n    \n    \n            var marker_4b5278149494a0ef046378958969eea9 = L.marker(\n                [51.5417525, -0.1021059],\n                {}\n            ).addTo(map_fe8e9a1dd10fe971a884ee8c79a99b36);\n        \n    \n            var icon_127657a00723713df034b5202ecbe2ce = L.AwesomeMarkers.icon(\n                {&quot;extraClasses&quot;: &quot;fa-rotate-0&quot;, &quot;icon&quot;: &quot;star&quot;, &quot;iconColor&quot;: &quot;white&quot;, &quot;markerColor&quot;: &quot;purple&quot;, &quot;prefix&quot;: &quot;glyphicon&quot;}\n            );\n            marker_4b5278149494a0ef046378958969eea9.setIcon(icon_127657a00723713df034b5202ecbe2ce);\n        \n    \n        var popup_a5e0bd9bb34cda0b2ac1e11694485eb9 = L.popup({&quot;maxWidth&quot;: &quot;100%&quot;});\n\n        \n            \n                var html_3fd77d5dcdbfa464db6dd34f3f117b3d = $(`&lt;div id=&quot;html_3fd77d5dcdbfa464db6dd34f3f117b3d&quot; style=&quot;width: 100.0%; height: 100.0%;&quot;&gt;London Borough of Islington&lt;/div&gt;`)[0];\n                popup_a5e0bd9bb34cda0b2ac1e11694485eb9.setContent(html_3fd77d5dcdbfa464db6dd34f3f117b3d);\n            \n        \n\n        marker_4b5278149494a0ef046378958969eea9.bindPopup(popup_a5e0bd9bb34cda0b2ac1e11694485eb9)\n        ;\n\n        \n    \n    \n            var marker_9290f39f79975e9be1f871d8df2a30d6 = L.marker(\n                [51.50124, -0.19369],\n                {}\n            ).addTo(map_fe8e9a1dd10fe971a884ee8c79a99b36);\n        \n    \n            var icon_74f01ba3115e48ba19e36597cb01cafc = L.AwesomeMarkers.icon(\n                {&quot;extraClasses&quot;: &quot;fa-rotate-0&quot;, &quot;icon&quot;: &quot;star&quot;, &quot;iconColor&quot;: &quot;white&quot;, &quot;markerColor&quot;: &quot;purple&quot;, &quot;prefix&quot;: &quot;glyphicon&quot;}\n            );\n            marker_9290f39f79975e9be1f871d8df2a30d6.setIcon(icon_74f01ba3115e48ba19e36597cb01cafc);\n        \n    \n        var popup_6b63034990479909b76b6b89388f0030 = L.popup({&quot;maxWidth&quot;: &quot;100%&quot;});\n\n        \n            \n                var html_5433f406a0c3f4dc6766ea7468f7f6cd = $(`&lt;div id=&quot;html_5433f406a0c3f4dc6766ea7468f7f6cd&quot; style=&quot;width: 100.0%; height: 100.0%;&quot;&gt;London Borough of Kensington and Chelsea&lt;/div&gt;`)[0];\n                popup_6b63034990479909b76b6b89388f0030.setContent(html_5433f406a0c3f4dc6766ea7468f7f6cd);\n            \n        \n\n        marker_9290f39f79975e9be1f871d8df2a30d6.bindPopup(popup_6b63034990479909b76b6b89388f0030)\n        ;\n\n        \n    \n    \n            var marker_f9143edbf26e729ef7edfef3ec40b0f5 = L.marker(\n                [51.40888, -0.30568],\n                {}\n            ).addTo(map_fe8e9a1dd10fe971a884ee8c79a99b36);\n        \n    \n            var icon_01db0fad1d7db77b09da477920c6f003 = L.AwesomeMarkers.icon(\n                {&quot;extraClasses&quot;: &quot;fa-rotate-0&quot;, &quot;icon&quot;: &quot;star&quot;, &quot;iconColor&quot;: &quot;white&quot;, &quot;markerColor&quot;: &quot;purple&quot;, &quot;prefix&quot;: &quot;glyphicon&quot;}\n            );\n            marker_f9143edbf26e729ef7edfef3ec40b0f5.setIcon(icon_01db0fad1d7db77b09da477920c6f003);\n        \n    \n        var popup_f2ed93845841311aaed254527fb63ee3 = L.popup({&quot;maxWidth&quot;: &quot;100%&quot;});\n\n        \n            \n                var html_4b26e5170ef8736de5ba890d2f59bd2c = $(`&lt;div id=&quot;html_4b26e5170ef8736de5ba890d2f59bd2c&quot; style=&quot;width: 100.0%; height: 100.0%;&quot;&gt;London Borough of Kingston upon Thames&lt;/div&gt;`)[0];\n                popup_f2ed93845841311aaed254527fb63ee3.setContent(html_4b26e5170ef8736de5ba890d2f59bd2c);\n            \n        \n\n        marker_f9143edbf26e729ef7edfef3ec40b0f5.bindPopup(popup_f2ed93845841311aaed254527fb63ee3)\n        ;\n\n        \n    \n    \n            var marker_f3193cf022e0acb53a8ad6e7e1c405c6 = L.marker(\n                [51.4606346, -0.117068],\n                {}\n            ).addTo(map_fe8e9a1dd10fe971a884ee8c79a99b36);\n        \n    \n            var icon_bde111563b3df066b1c61df855784f0a = L.AwesomeMarkers.icon(\n                {&quot;extraClasses&quot;: &quot;fa-rotate-0&quot;, &quot;icon&quot;: &quot;star&quot;, &quot;iconColor&quot;: &quot;white&quot;, &quot;markerColor&quot;: &quot;purple&quot;, &quot;prefix&quot;: &quot;glyphicon&quot;}\n            );\n            marker_f3193cf022e0acb53a8ad6e7e1c405c6.setIcon(icon_bde111563b3df066b1c61df855784f0a);\n        \n    \n        var popup_ba2c16c45ff3d46909f6f5dc96b95b1e = L.popup({&quot;maxWidth&quot;: &quot;100%&quot;});\n\n        \n            \n                var html_3431d72a48116a883a407ab65761dc7d = $(`&lt;div id=&quot;html_3431d72a48116a883a407ab65761dc7d&quot; style=&quot;width: 100.0%; height: 100.0%;&quot;&gt;London Borough of Lambeth&lt;/div&gt;`)[0];\n                popup_ba2c16c45ff3d46909f6f5dc96b95b1e.setContent(html_3431d72a48116a883a407ab65761dc7d);\n            \n        \n\n        marker_f3193cf022e0acb53a8ad6e7e1c405c6.bindPopup(popup_ba2c16c45ff3d46909f6f5dc96b95b1e)\n        ;\n\n        \n    \n    \n            var marker_d79b8a8d2b84559321d5cfb5f94d578a = L.marker(\n                [51.44521125, -0.0205337],\n                {}\n            ).addTo(map_fe8e9a1dd10fe971a884ee8c79a99b36);\n        \n    \n            var icon_f1143c9717896f6515e5f33d03e6d65f = L.AwesomeMarkers.icon(\n                {&quot;extraClasses&quot;: &quot;fa-rotate-0&quot;, &quot;icon&quot;: &quot;star&quot;, &quot;iconColor&quot;: &quot;white&quot;, &quot;markerColor&quot;: &quot;purple&quot;, &quot;prefix&quot;: &quot;glyphicon&quot;}\n            );\n            marker_d79b8a8d2b84559321d5cfb5f94d578a.setIcon(icon_f1143c9717896f6515e5f33d03e6d65f);\n        \n    \n        var popup_b6925c7b4f4593edca5a0cf4dea03eff = L.popup({&quot;maxWidth&quot;: &quot;100%&quot;});\n\n        \n            \n                var html_d76e99a0132d9db23ee0ec9acc15d261 = $(`&lt;div id=&quot;html_d76e99a0132d9db23ee0ec9acc15d261&quot; style=&quot;width: 100.0%; height: 100.0%;&quot;&gt;London Borough of Lewisham&lt;/div&gt;`)[0];\n                popup_b6925c7b4f4593edca5a0cf4dea03eff.setContent(html_d76e99a0132d9db23ee0ec9acc15d261);\n            \n        \n\n        marker_d79b8a8d2b84559321d5cfb5f94d578a.bindPopup(popup_b6925c7b4f4593edca5a0cf4dea03eff)\n        ;\n\n        \n    \n    \n            var marker_140f4d6891f3c6a4a306e6faf3a40b83 = L.marker(\n                [51.40068, -0.1957],\n                {}\n            ).addTo(map_fe8e9a1dd10fe971a884ee8c79a99b36);\n        \n    \n            var icon_9025d36f5768f81d0fcd5ff8f0846208 = L.AwesomeMarkers.icon(\n                {&quot;extraClasses&quot;: &quot;fa-rotate-0&quot;, &quot;icon&quot;: &quot;star&quot;, &quot;iconColor&quot;: &quot;white&quot;, &quot;markerColor&quot;: &quot;purple&quot;, &quot;prefix&quot;: &quot;glyphicon&quot;}\n            );\n            marker_140f4d6891f3c6a4a306e6faf3a40b83.setIcon(icon_9025d36f5768f81d0fcd5ff8f0846208);\n        \n    \n        var popup_01a2a0b5ddae7beaefad51da18a763f7 = L.popup({&quot;maxWidth&quot;: &quot;100%&quot;});\n\n        \n            \n                var html_3112018350522c9a334467f08ee56acd = $(`&lt;div id=&quot;html_3112018350522c9a334467f08ee56acd&quot; style=&quot;width: 100.0%; height: 100.0%;&quot;&gt;London Borough of Merton&lt;/div&gt;`)[0];\n                popup_01a2a0b5ddae7beaefad51da18a763f7.setContent(html_3112018350522c9a334467f08ee56acd);\n            \n        \n\n        marker_140f4d6891f3c6a4a306e6faf3a40b83.bindPopup(popup_01a2a0b5ddae7beaefad51da18a763f7)\n        ;\n\n        \n    \n    \n            var marker_fd765f6d5617937683151dbd6c787e0d = L.marker(\n                [51.5077406, 0.0472298],\n                {}\n            ).addTo(map_fe8e9a1dd10fe971a884ee8c79a99b36);\n        \n    \n            var icon_3b07a653d47277ef9048a9119f1eeb8c = L.AwesomeMarkers.icon(\n                {&quot;extraClasses&quot;: &quot;fa-rotate-0&quot;, &quot;icon&quot;: &quot;star&quot;, &quot;iconColor&quot;: &quot;white&quot;, &quot;markerColor&quot;: &quot;purple&quot;, &quot;prefix&quot;: &quot;glyphicon&quot;}\n            );\n            marker_fd765f6d5617937683151dbd6c787e0d.setIcon(icon_3b07a653d47277ef9048a9119f1eeb8c);\n        \n    \n        var popup_fadda77651201ffdfdd3decb0d5182ec = L.popup({&quot;maxWidth&quot;: &quot;100%&quot;});\n\n        \n            \n                var html_a0eab6f2f0c0e4aa0e3c885845612124 = $(`&lt;div id=&quot;html_a0eab6f2f0c0e4aa0e3c885845612124&quot; style=&quot;width: 100.0%; height: 100.0%;&quot;&gt;London Borough of Newham&lt;/div&gt;`)[0];\n                popup_fadda77651201ffdfdd3decb0d5182ec.setContent(html_a0eab6f2f0c0e4aa0e3c885845612124);\n            \n        \n\n        marker_fd765f6d5617937683151dbd6c787e0d.bindPopup(popup_fadda77651201ffdfdd3decb0d5182ec)\n        ;\n\n        \n    \n    \n            var marker_d631698504397b086ad3a48f09fb74ab = L.marker(\n                [51.5588662, 0.0741985],\n                {}\n            ).addTo(map_fe8e9a1dd10fe971a884ee8c79a99b36);\n        \n    \n            var icon_70a547232d97ca8fa3cc67be67953263 = L.AwesomeMarkers.icon(\n                {&quot;extraClasses&quot;: &quot;fa-rotate-0&quot;, &quot;icon&quot;: &quot;star&quot;, &quot;iconColor&quot;: &quot;white&quot;, &quot;markerColor&quot;: &quot;purple&quot;, &quot;prefix&quot;: &quot;glyphicon&quot;}\n            );\n            marker_d631698504397b086ad3a48f09fb74ab.setIcon(icon_70a547232d97ca8fa3cc67be67953263);\n        \n    \n        var popup_9c5c660024e03a24b4b014a492a7db49 = L.popup({&quot;maxWidth&quot;: &quot;100%&quot;});\n\n        \n            \n                var html_f5791629432fb1a15a44cdf4891921ea = $(`&lt;div id=&quot;html_f5791629432fb1a15a44cdf4891921ea&quot; style=&quot;width: 100.0%; height: 100.0%;&quot;&gt;London Borough of Redbridge&lt;/div&gt;`)[0];\n                popup_9c5c660024e03a24b4b014a492a7db49.setContent(html_f5791629432fb1a15a44cdf4891921ea);\n            \n        \n\n        marker_d631698504397b086ad3a48f09fb74ab.bindPopup(popup_9c5c660024e03a24b4b014a492a7db49)\n        ;\n\n        \n    \n    \n            var marker_50f398f3178b17ef0febdb1cbb0bb07f = L.marker(\n                [51.4478558, -0.3257786],\n                {}\n            ).addTo(map_fe8e9a1dd10fe971a884ee8c79a99b36);\n        \n    \n            var icon_b6f80ea377800bff7c89ff948d3645db = L.AwesomeMarkers.icon(\n                {&quot;extraClasses&quot;: &quot;fa-rotate-0&quot;, &quot;icon&quot;: &quot;star&quot;, &quot;iconColor&quot;: &quot;white&quot;, &quot;markerColor&quot;: &quot;purple&quot;, &quot;prefix&quot;: &quot;glyphicon&quot;}\n            );\n            marker_50f398f3178b17ef0febdb1cbb0bb07f.setIcon(icon_b6f80ea377800bff7c89ff948d3645db);\n        \n    \n        var popup_c51363321731ed4567de14356583d976 = L.popup({&quot;maxWidth&quot;: &quot;100%&quot;});\n\n        \n            \n                var html_87b00af7cf14a6a5dfaab2c6339c617f = $(`&lt;div id=&quot;html_87b00af7cf14a6a5dfaab2c6339c617f&quot; style=&quot;width: 100.0%; height: 100.0%;&quot;&gt;London Borough of Richmond upon Thames&lt;/div&gt;`)[0];\n                popup_c51363321731ed4567de14356583d976.setContent(html_87b00af7cf14a6a5dfaab2c6339c617f);\n            \n        \n\n        marker_50f398f3178b17ef0febdb1cbb0bb07f.bindPopup(popup_c51363321731ed4567de14356583d976)\n        ;\n\n        \n    \n    \n            var marker_9e482da744763176fe0d4b2bc111ba14 = L.marker(\n                [51.5031929, -0.0806804],\n                {}\n            ).addTo(map_fe8e9a1dd10fe971a884ee8c79a99b36);\n        \n    \n            var icon_1c37a0ac6d7efb7902a878abf2875294 = L.AwesomeMarkers.icon(\n                {&quot;extraClasses&quot;: &quot;fa-rotate-0&quot;, &quot;icon&quot;: &quot;star&quot;, &quot;iconColor&quot;: &quot;white&quot;, &quot;markerColor&quot;: &quot;purple&quot;, &quot;prefix&quot;: &quot;glyphicon&quot;}\n            );\n            marker_9e482da744763176fe0d4b2bc111ba14.setIcon(icon_1c37a0ac6d7efb7902a878abf2875294);\n        \n    \n        var popup_376a21cf2bc82a57278bdcc364142db9 = L.popup({&quot;maxWidth&quot;: &quot;100%&quot;});\n\n        \n            \n                var html_63ab7552bfc87745a1ed282c244a269b = $(`&lt;div id=&quot;html_63ab7552bfc87745a1ed282c244a269b&quot; style=&quot;width: 100.0%; height: 100.0%;&quot;&gt;London Borough of Southwark&lt;/div&gt;`)[0];\n                popup_376a21cf2bc82a57278bdcc364142db9.setContent(html_63ab7552bfc87745a1ed282c244a269b);\n            \n        \n\n        marker_9e482da744763176fe0d4b2bc111ba14.bindPopup(popup_376a21cf2bc82a57278bdcc364142db9)\n        ;\n\n        \n    \n    \n            var marker_b8491f2b40488f23fc9d82d8a377f151 = L.marker(\n                [51.36163, -0.19474],\n                {}\n            ).addTo(map_fe8e9a1dd10fe971a884ee8c79a99b36);\n        \n    \n            var icon_5849f47282f53f7fef0b9f2daa6a0c4e = L.AwesomeMarkers.icon(\n                {&quot;extraClasses&quot;: &quot;fa-rotate-0&quot;, &quot;icon&quot;: &quot;star&quot;, &quot;iconColor&quot;: &quot;white&quot;, &quot;markerColor&quot;: &quot;purple&quot;, &quot;prefix&quot;: &quot;glyphicon&quot;}\n            );\n            marker_b8491f2b40488f23fc9d82d8a377f151.setIcon(icon_5849f47282f53f7fef0b9f2daa6a0c4e);\n        \n    \n        var popup_0dbc14d3287e63e6957c918362cea672 = L.popup({&quot;maxWidth&quot;: &quot;100%&quot;});\n\n        \n            \n                var html_99cc8f7595dbe02a18488ebf7c10bfd3 = $(`&lt;div id=&quot;html_99cc8f7595dbe02a18488ebf7c10bfd3&quot; style=&quot;width: 100.0%; height: 100.0%;&quot;&gt;London Borough of Sutton&lt;/div&gt;`)[0];\n                popup_0dbc14d3287e63e6957c918362cea672.setContent(html_99cc8f7595dbe02a18488ebf7c10bfd3);\n            \n        \n\n        marker_b8491f2b40488f23fc9d82d8a377f151.bindPopup(popup_0dbc14d3287e63e6957c918362cea672)\n        ;\n\n        \n    \n    \n            var marker_7fc0b0f8b07b331025a37f5109739257 = L.marker(\n                [51.509614760000005, -0.0054742],\n                {}\n            ).addTo(map_fe8e9a1dd10fe971a884ee8c79a99b36);\n        \n    \n            var icon_5cd0cd959d015971409a551b7e5ab8c5 = L.AwesomeMarkers.icon(\n                {&quot;extraClasses&quot;: &quot;fa-rotate-0&quot;, &quot;icon&quot;: &quot;star&quot;, &quot;iconColor&quot;: &quot;white&quot;, &quot;markerColor&quot;: &quot;purple&quot;, &quot;prefix&quot;: &quot;glyphicon&quot;}\n            );\n            marker_7fc0b0f8b07b331025a37f5109739257.setIcon(icon_5cd0cd959d015971409a551b7e5ab8c5);\n        \n    \n        var popup_a281a78a2b7afb1570fa640c87382f8c = L.popup({&quot;maxWidth&quot;: &quot;100%&quot;});\n\n        \n            \n                var html_ca513149ce5c42ec2e0708234ae3b0af = $(`&lt;div id=&quot;html_ca513149ce5c42ec2e0708234ae3b0af&quot; style=&quot;width: 100.0%; height: 100.0%;&quot;&gt;London Borough of Tower Hamlets&lt;/div&gt;`)[0];\n                popup_a281a78a2b7afb1570fa640c87382f8c.setContent(html_ca513149ce5c42ec2e0708234ae3b0af);\n            \n        \n\n        marker_7fc0b0f8b07b331025a37f5109739257.bindPopup(popup_a281a78a2b7afb1570fa640c87382f8c)\n        ;\n\n        \n    \n    \n            var marker_6b9b5ddaf88c1762b95e9f9f96fd0c0b = L.marker(\n                [51.5908779, -0.0135681],\n                {}\n            ).addTo(map_fe8e9a1dd10fe971a884ee8c79a99b36);\n        \n    \n            var icon_7a36347eb11e90e449de9c0e0ee4e5d7 = L.AwesomeMarkers.icon(\n                {&quot;extraClasses&quot;: &quot;fa-rotate-0&quot;, &quot;icon&quot;: &quot;star&quot;, &quot;iconColor&quot;: &quot;white&quot;, &quot;markerColor&quot;: &quot;purple&quot;, &quot;prefix&quot;: &quot;glyphicon&quot;}\n            );\n            marker_6b9b5ddaf88c1762b95e9f9f96fd0c0b.setIcon(icon_7a36347eb11e90e449de9c0e0ee4e5d7);\n        \n    \n        var popup_1a3d09f13109b73640bdd7f3fe71a79f = L.popup({&quot;maxWidth&quot;: &quot;100%&quot;});\n\n        \n            \n                var html_edffda3cea96ba7245f36c362346ce31 = $(`&lt;div id=&quot;html_edffda3cea96ba7245f36c362346ce31&quot; style=&quot;width: 100.0%; height: 100.0%;&quot;&gt;London Borough of Waltham Forest&lt;/div&gt;`)[0];\n                popup_1a3d09f13109b73640bdd7f3fe71a79f.setContent(html_edffda3cea96ba7245f36c362346ce31);\n            \n        \n\n        marker_6b9b5ddaf88c1762b95e9f9f96fd0c0b.bindPopup(popup_1a3d09f13109b73640bdd7f3fe71a79f)\n        ;\n\n        \n    \n    \n            map_fe8e9a1dd10fe971a884ee8c79a99b36.fitBounds(\n                [{&quot;lat&quot;: &quot;51.456232005344&quot;, &quot;lon&quot;: &quot;-0.192802447497&quot;}, {&quot;lat&quot;: &quot;51.515500000000&quot;, &quot;lon&quot;: &quot;-0.092200000000&quot;}, {&quot;lat&quot;: &quot;51.546500000000&quot;, &quot;lon&quot;: &quot;0.129300000000&quot;}, {&quot;lat&quot;: &quot;51.625200000000&quot;, &quot;lon&quot;: &quot;-0.151700000000&quot;}, {&quot;lat&quot;: &quot;51.454900000000&quot;, &quot;lon&quot;: &quot;0.150500000000&quot;}, {&quot;lat&quot;: &quot;51.558800000000&quot;, &quot;lon&quot;: &quot;-0.281700000000&quot;}, {&quot;lat&quot;: &quot;51.403900000000&quot;, &quot;lon&quot;: &quot;0.019800000000&quot;}, {&quot;lat&quot;: &quot;51.529000000000&quot;, &quot;lon&quot;: &quot;-0.125500000000&quot;}, {&quot;lat&quot;: &quot;51.371400000000&quot;, &quot;lon&quot;: &quot;-0.097700000000&quot;}, {&quot;lat&quot;: &quot;51.513000000000&quot;, &quot;lon&quot;: &quot;-0.308900000000&quot;}, {&quot;lat&quot;: &quot;51.653800000000&quot;, &quot;lon&quot;: &quot;-0.079900000000&quot;}, {&quot;lat&quot;: &quot;51.489200000000&quot;, &quot;lon&quot;: &quot;0.064800000000&quot;}, {&quot;lat&quot;: &quot;51.545000000000&quot;, &quot;lon&quot;: &quot;-0.055300000000&quot;}, {&quot;lat&quot;: &quot;51.492700000000&quot;, &quot;lon&quot;: &quot;-0.217500000000&quot;}, {&quot;lat&quot;: &quot;51.600000000000&quot;, &quot;lon&quot;: &quot;-0.111900000000&quot;}, {&quot;lat&quot;: &quot;51.589800000000&quot;, &quot;lon&quot;: &quot;-0.334600000000&quot;}, {&quot;lat&quot;: &quot;51.581200000000&quot;, &quot;lon&quot;: &quot;0.183700000000&quot;}, {&quot;lat&quot;: &quot;51.544100000000&quot;, &quot;lon&quot;: &quot;-0.476000000000&quot;}, {&quot;lat&quot;: &quot;51.544100000000&quot;, &quot;lon&quot;: &quot;-0.476000000000&quot;}, {&quot;lat&quot;: &quot;51.474600000000&quot;, &quot;lon&quot;: &quot;-0.368000000000&quot;}, {&quot;lat&quot;: &quot;51.541600000000&quot;, &quot;lon&quot;: &quot;-0.102200000000&quot;}, {&quot;lat&quot;: &quot;51.502000000000&quot;, &quot;lon&quot;: &quot;-0.194700000000&quot;}, {&quot;lat&quot;: &quot;51.408500000000&quot;, &quot;lon&quot;: &quot;-0.306400000000&quot;}, {&quot;lat&quot;: &quot;51.460700000000&quot;, &quot;lon&quot;: &quot;-0.116300000000&quot;}, {&quot;lat&quot;: &quot;51.445200000000&quot;, &quot;lon&quot;: &quot;-0.020900000000&quot;}, {&quot;lat&quot;: &quot;51.401400000000&quot;, &quot;lon&quot;: &quot;-0.195800000000&quot;}, {&quot;lat&quot;: &quot;51.507700000000&quot;, &quot;lon&quot;: &quot;0.046900000000&quot;}, {&quot;lat&quot;: &quot;51.559000000000&quot;, &quot;lon&quot;: &quot;0.074100000000&quot;}, {&quot;lat&quot;: &quot;51.447900000000&quot;, &quot;lon&quot;: &quot;-0.326000000000&quot;}, {&quot;lat&quot;: &quot;51.503500000000&quot;, &quot;lon&quot;: &quot;-0.080400000000&quot;}, {&quot;lat&quot;: &quot;51.361800000000&quot;, &quot;lon&quot;: &quot;-0.194500000000&quot;}, {&quot;lat&quot;: &quot;51.509900000000&quot;, &quot;lon&quot;: &quot;-0.005900000000&quot;}, {&quot;lat&quot;: &quot;51.590800000000&quot;, &quot;lon&quot;: &quot;-0.013400000000&quot;}],\n                {}\n            );\n        \n&lt;/script&gt;\n&lt;/html&gt;\" style=\"position:absolute;width:100%;height:100%;left:0;top:0;border:none !important;\" allowfullscreen webkitallowfullscreen mozallowfullscreen></iframe></div></div>"
     },
     "execution_count": 6,
     "metadata": {},
     "output_type": "execute_result"
    }
   ]
  }
 ]
}
